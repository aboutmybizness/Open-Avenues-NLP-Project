{
 "cells": [
  {
   "cell_type": "raw",
   "metadata": {},
   "source": [
    "---\n",
    "title: \"Logistic Regression\"\n",
    "author: Kenley Ambroise\n",
    "format:\n",
    "  pdf:\n",
    "    code-overflow: wrap\n",
    "---"
   ]
  },
  {
   "cell_type": "code",
   "execution_count": 49,
   "metadata": {},
   "outputs": [],
   "source": [
    "import numpy as np\n",
    "from sklearn.model_selection import train_test_split, GridSearchCV\n",
    "from sklearn.linear_model import LogisticRegression\n",
    "from sklearn.metrics import classification_report, confusion_matrix, accuracy_score\n",
    "from time import time"
   ]
  },
  {
   "cell_type": "code",
   "execution_count": 50,
   "metadata": {},
   "outputs": [],
   "source": [
    "%store -r X\n",
    "X = X\n",
    "%store -z"
   ]
  },
  {
   "cell_type": "code",
   "execution_count": 51,
   "metadata": {},
   "outputs": [
    {
     "data": {
      "text/plain": [
       "((3812, 1083), (3812,))"
      ]
     },
     "execution_count": 51,
     "metadata": {},
     "output_type": "execute_result"
    }
   ],
   "source": [
    "y = np.empty(X.shape[0])\n",
    "y[0:954] = 0\n",
    "y[954:1904] = 1\n",
    "y[1904:2858] = 2\n",
    "y[2858:X.shape[0]] = 3\n",
    "\n",
    "X.shape, y.shape\n"
   ]
  },
  {
   "cell_type": "code",
   "execution_count": 2,
   "metadata": {},
   "outputs": [
    {
     "ename": "NameError",
     "evalue": "name 'train_test_split' is not defined",
     "output_type": "error",
     "traceback": [
      "\u001b[1;31m---------------------------------------------------------------------------\u001b[0m",
      "\u001b[1;31mNameError\u001b[0m                                 Traceback (most recent call last)",
      "Cell \u001b[1;32mIn[2], line 3\u001b[0m\n\u001b[0;32m      1\u001b[0m \u001b[39m#Splitting our dataset into training and testing sets\u001b[39;00m\n\u001b[1;32m----> 3\u001b[0m X_train, X_test, y_train, y_test \u001b[39m=\u001b[39m train_test_split(\n\u001b[0;32m      4\u001b[0m     X,y, test_size\u001b[39m=\u001b[39m\u001b[39m.33\u001b[39m, shuffle\u001b[39m=\u001b[39m\u001b[39mTrue\u001b[39;00m, random_state\u001b[39m=\u001b[39m\u001b[39m52\u001b[39m\n\u001b[0;32m      5\u001b[0m )\n",
      "\u001b[1;31mNameError\u001b[0m: name 'train_test_split' is not defined"
     ]
    }
   ],
   "source": [
    "#Splitting our dataset into training and testing sets\n",
    "\n",
    "X_train, X_test, y_train, y_test = train_test_split(\n",
    "    X,y, test_size=.33, shuffle=True, random_state=52\n",
    ")"
   ]
  },
  {
   "cell_type": "code",
   "execution_count": 65,
   "metadata": {},
   "outputs": [
    {
     "name": "stdout",
     "output_type": "stream",
     "text": [
      "GridSearch took 6.92 seconds to complete.\n"
     ]
    },
    {
     "data": {
      "text/plain": [
       "{'C': 100, 'solver': 'sag'}"
      ]
     },
     "metadata": {},
     "output_type": "display_data"
    },
    {
     "name": "stdout",
     "output_type": "stream",
     "text": [
      "Cross-Validated Score of the Best Estimator: 1.000\n"
     ]
    }
   ],
   "source": [
    "#Logistic Regression\n",
    "\n",
    "lr_model = LogisticRegression(max_iter=2000)\n",
    "param_dict = {'C': [0.001, 0.01, 0.1, 1, 10,100],\n",
    "             'solver': ['liblinear','sag', 'lbfgs', 'saga']}\n",
    "\n",
    "start = time()\n",
    "grid_search = GridSearchCV(lr_model, param_dict)\n",
    "grid_search.fit(X_train, y_train)\n",
    "print(\"GridSearch took %.2f seconds to complete.\" % (time()-start))\n",
    "display(grid_search.best_params_)\n",
    "print(\"Cross-Validated Score of the Best Estimator: %.3f\" % grid_search.best_score_)"
   ]
  },
  {
   "cell_type": "code",
   "execution_count": 66,
   "metadata": {},
   "outputs": [
    {
     "name": "stdout",
     "output_type": "stream",
     "text": [
      "[[330   0   0   0]\n",
      " [  0 311   0   0]\n",
      " [  1   0 317   0]\n",
      " [  0   0   1 298]]\n",
      "              precision    recall  f1-score   support\n",
      "\n",
      "         0.0       1.00      1.00      1.00       330\n",
      "         1.0       1.00      1.00      1.00       311\n",
      "         2.0       1.00      1.00      1.00       318\n",
      "         3.0       1.00      1.00      1.00       299\n",
      "\n",
      "    accuracy                           1.00      1258\n",
      "   macro avg       1.00      1.00      1.00      1258\n",
      "weighted avg       1.00      1.00      1.00      1258\n",
      "\n",
      "Accuracy Score: 0.998\n"
     ]
    }
   ],
   "source": [
    "lr=LogisticRegression(C=100, solver ='sag',max_iter=2000)\n",
    "lr.fit(X_train, y_train)\n",
    "lr_preds=lr.predict(X_test)\n",
    "\n",
    "print(confusion_matrix(y_test, lr_preds))\n",
    "print(classification_report(y_test, lr_preds))\n",
    "print(\"Accuracy Score: %.3f\" % accuracy_score(y_test, lr_preds))"
   ]
  },
  {
   "attachments": {},
   "cell_type": "markdown",
   "metadata": {},
   "source": [
    "This logistic regression model is extremely accurate, likely because of the impact of certain identifier words such as the title names in the strings. A further way to optimize the model for identification would be to remove these titles from the section strings in order to test the reliability of the model in the absence of the section titles."
   ]
  },
  {
   "cell_type": "code",
   "execution_count": 63,
   "metadata": {},
   "outputs": [
    {
     "name": "stdout",
     "output_type": "stream",
     "text": [
      "Stored 'X' (csr_matrix)\n"
     ]
    }
   ],
   "source": [
    "%store X"
   ]
  }
 ],
 "metadata": {
  "kernelspec": {
   "display_name": "my-env",
   "language": "python",
   "name": "python3"
  },
  "language_info": {
   "codemirror_mode": {
    "name": "ipython",
    "version": 3
   },
   "file_extension": ".py",
   "mimetype": "text/x-python",
   "name": "python",
   "nbconvert_exporter": "python",
   "pygments_lexer": "ipython3",
   "version": "3.10.8"
  },
  "orig_nbformat": 4,
  "vscode": {
   "interpreter": {
    "hash": "bae4623b65ce0a01a3021da69a7f8b976926f9e18619b94d0038081803bac4cf"
   }
  }
 },
 "nbformat": 4,
 "nbformat_minor": 2
}
